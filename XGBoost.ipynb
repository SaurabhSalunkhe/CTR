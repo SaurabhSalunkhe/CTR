{
 "cells": [
  {
   "cell_type": "code",
   "execution_count": 1,
   "metadata": {
    "collapsed": true
   },
   "outputs": [],
   "source": [
    "# XGBoost is an optimized distributed gradient boosting library designed to be highly efficient, \n",
    "# flexible and portable. It implements machine learning algorithms under the Gradient Boosting framework. \n",
    "# XGBoost provides a parallel tree boosting (also known as GBDT, GBM) that solve many data science problems \n",
    "# in a fast and accurate way. The same code runs on major distributed environment (Hadoop, SGE, MPI) and can \n",
    "# solve problems beyond billions of examples."
   ]
  },
  {
   "cell_type": "code",
   "execution_count": 17,
   "metadata": {
    "collapsed": true
   },
   "outputs": [],
   "source": [
    "from numpy import loadtxt\n",
    "from xgboost import XGBClassifier\n",
    "from sklearn.model_selection import train_test_split\n",
    "from sklearn.metrics import accuracy_score\n",
    "import numpy as np"
   ]
  },
  {
   "cell_type": "code",
   "execution_count": 24,
   "metadata": {
    "collapsed": false
   },
   "outputs": [
    {
     "name": "stdout",
     "output_type": "stream",
     "text": [
      "   SearchID      AdID  Position  ObjectType   HistCTR IsClick\n",
      "0         2  11441863         1           3  0.001804       0\n",
      "1         2  22968355         7           3  0.004723       0\n",
      "2         3    212187         7           3  0.029701       0\n",
      "3         3  34084553         1           3    0.0043       0\n",
      "4         3  36256251         2           2                  \n",
      "<class 'pandas.core.frame.DataFrame'>\n"
     ]
    }
   ],
   "source": [
    "import sqlite3\n",
    "import pandas as pd\n",
    "from pandas.io import sql\n",
    "# creating a connection object that represent the database\n",
    "conn = sqlite3.connect('database.sqlite')\n",
    "\n",
    "# representing the query string\n",
    "query_train = \"\"\"\n",
    "select * from trainSearchStream limit 600000;\n",
    "\"\"\"\n",
    "\n",
    "# Read SQl query into a dataframe \n",
    "df = sql.read_sql(query_train, conn)\n",
    "\n",
    "print(df.head())\n",
    "print(type(df))"
   ]
  },
  {
   "cell_type": "code",
   "execution_count": 36,
   "metadata": {
    "collapsed": false
   },
   "outputs": [
    {
     "name": "stdout",
     "output_type": "stream",
     "text": [
      "<class 'pandas.core.frame.DataFrame'>\n"
     ]
    }
   ],
   "source": [
    "print(type(df))\n",
    "# df_new.replace('',np.nan,inplace=True)\n",
    "\n",
    "# print(df_new)\n",
    "\n",
    "# df_new_dropped=df_new.dropna()\n",
    "\n",
    "\n",
    "\n",
    "df.replace('',np.nan,inplace=True)\n",
    "\n",
    "df_new=df.dropna()"
   ]
  },
  {
   "cell_type": "code",
   "execution_count": 38,
   "metadata": {
    "collapsed": false
   },
   "outputs": [
    {
     "data": {
      "text/plain": [
       "SearchID      0\n",
       "AdID          0\n",
       "Position      0\n",
       "ObjectType    0\n",
       "HistCTR       0\n",
       "IsClick       0\n",
       "dtype: int64"
      ]
     },
     "execution_count": 38,
     "metadata": {},
     "output_type": "execute_result"
    }
   ],
   "source": [
    "df_new.isnull().sum()"
   ]
  },
  {
   "cell_type": "code",
   "execution_count": 39,
   "metadata": {
    "collapsed": false
   },
   "outputs": [],
   "source": [
    "X=df_new[['Position','HistCTR']]"
   ]
  },
  {
   "cell_type": "code",
   "execution_count": 40,
   "metadata": {
    "collapsed": false
   },
   "outputs": [
    {
     "name": "stdout",
     "output_type": "stream",
     "text": [
      "0         False\n",
      "1         False\n",
      "2         False\n",
      "3         False\n",
      "8         False\n",
      "11        False\n",
      "12        False\n",
      "15        False\n",
      "16        False\n",
      "17        False\n",
      "18        False\n",
      "22        False\n",
      "23        False\n",
      "24        False\n",
      "25        False\n",
      "26        False\n",
      "27        False\n",
      "33        False\n",
      "35        False\n",
      "36        False\n",
      "39        False\n",
      "41        False\n",
      "42        False\n",
      "43        False\n",
      "44        False\n",
      "52        False\n",
      "54        False\n",
      "55        False\n",
      "56        False\n",
      "59        False\n",
      "          ...  \n",
      "599942    False\n",
      "599945    False\n",
      "599947    False\n",
      "599949    False\n",
      "599953    False\n",
      "599954    False\n",
      "599957    False\n",
      "599960    False\n",
      "599963    False\n",
      "599966    False\n",
      "599968    False\n",
      "599969    False\n",
      "599970    False\n",
      "599972    False\n",
      "599975    False\n",
      "599978    False\n",
      "599980    False\n",
      "599981    False\n",
      "599982    False\n",
      "599983    False\n",
      "599984    False\n",
      "599985    False\n",
      "599988    False\n",
      "599989    False\n",
      "599990    False\n",
      "599991    False\n",
      "599992    False\n",
      "599994    False\n",
      "599995    False\n",
      "599996    False\n",
      "Name: IsClick, dtype: bool\n"
     ]
    }
   ],
   "source": [
    "Y=df_new['IsClick']\n",
    "print(Y.isnull())"
   ]
  },
  {
   "cell_type": "code",
   "execution_count": 41,
   "metadata": {
    "collapsed": true
   },
   "outputs": [],
   "source": [
    "# split data into train and test sets\n",
    "seed = 7\n",
    "test_size = 0.33\n",
    "X_train, X_test, y_train, y_test = train_test_split(X, Y, test_size=test_size, random_state=seed)"
   ]
  },
  {
   "cell_type": "code",
   "execution_count": 42,
   "metadata": {
    "collapsed": false
   },
   "outputs": [
    {
     "data": {
      "text/plain": [
       "XGBClassifier(base_score=0.5, booster='gbtree', colsample_bylevel=1,\n",
       "       colsample_bytree=1, gamma=0, learning_rate=0.1, max_delta_step=0,\n",
       "       max_depth=3, min_child_weight=1, missing=None, n_estimators=100,\n",
       "       n_jobs=1, nthread=None, objective='binary:logistic', random_state=0,\n",
       "       reg_alpha=0, reg_lambda=1, scale_pos_weight=1, seed=None,\n",
       "       silent=True, subsample=1)"
      ]
     },
     "execution_count": 42,
     "metadata": {},
     "output_type": "execute_result"
    }
   ],
   "source": [
    "# fit model no training data\n",
    "model = XGBClassifier()\n",
    "model.fit(X_train, y_train)"
   ]
  },
  {
   "cell_type": "code",
   "execution_count": 43,
   "metadata": {
    "collapsed": false
   },
   "outputs": [
    {
     "name": "stdout",
     "output_type": "stream",
     "text": [
      "XGBClassifier(base_score=0.5, booster='gbtree', colsample_bylevel=1,\n",
      "       colsample_bytree=1, gamma=0, learning_rate=0.1, max_delta_step=0,\n",
      "       max_depth=3, min_child_weight=1, missing=None, n_estimators=100,\n",
      "       n_jobs=1, nthread=None, objective='binary:logistic', random_state=0,\n",
      "       reg_alpha=0, reg_lambda=1, scale_pos_weight=1, seed=None,\n",
      "       silent=True, subsample=1)\n"
     ]
    }
   ],
   "source": [
    "print(model)"
   ]
  },
  {
   "cell_type": "code",
   "execution_count": 44,
   "metadata": {
    "collapsed": true
   },
   "outputs": [],
   "source": [
    "# make predictions for test data\n",
    "y_pred = model.predict(X_test)\n",
    "predictions = [round(value) for value in y_pred]"
   ]
  },
  {
   "cell_type": "code",
   "execution_count": 45,
   "metadata": {
    "collapsed": false
   },
   "outputs": [
    {
     "name": "stdout",
     "output_type": "stream",
     "text": [
      "Accuracy: 99.40%\n"
     ]
    }
   ],
   "source": [
    "# evaluate predictions\n",
    "accuracy = accuracy_score(y_test, predictions)\n",
    "print(\"Accuracy: %.2f%%\" % (accuracy * 100.0))"
   ]
  },
  {
   "cell_type": "code",
   "execution_count": null,
   "metadata": {
    "collapsed": true
   },
   "outputs": [],
   "source": []
  }
 ],
 "metadata": {
  "kernelspec": {
   "display_name": "Python 3",
   "language": "python",
   "name": "python3"
  },
  "language_info": {
   "codemirror_mode": {
    "name": "ipython",
    "version": 3
   },
   "file_extension": ".py",
   "mimetype": "text/x-python",
   "name": "python",
   "nbconvert_exporter": "python",
   "pygments_lexer": "ipython3",
   "version": "3.6.0"
  }
 },
 "nbformat": 4,
 "nbformat_minor": 2
}
