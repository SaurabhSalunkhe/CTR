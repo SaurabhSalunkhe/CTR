{
 "cells": [
  {
   "cell_type": "code",
   "execution_count": 6,
   "metadata": {
    "collapsed": true
   },
   "outputs": [],
   "source": [
    "import numpy as np\n",
    "import pandas as pd\n",
    "import sklearn\n",
    "from sklearn.linear_model import LinearRegression\n",
    "from sklearn.preprocessing import scale\n",
    "from collections import Counter\n"
   ]
  },
  {
   "cell_type": "code",
   "execution_count": 7,
   "metadata": {
    "collapsed": false
   },
   "outputs": [
    {
     "data": {
      "text/html": [
       "<div>\n",
       "<table border=\"1\" class=\"dataframe\">\n",
       "  <thead>\n",
       "    <tr style=\"text-align: right;\">\n",
       "      <th></th>\n",
       "      <th>Position</th>\n",
       "      <th>HistCTR</th>\n",
       "      <th>IsClick</th>\n",
       "      <th>Level</th>\n",
       "      <th>CTR</th>\n",
       "    </tr>\n",
       "  </thead>\n",
       "  <tbody>\n",
       "    <tr>\n",
       "      <th>0</th>\n",
       "      <td>7</td>\n",
       "      <td>0.000010</td>\n",
       "      <td>0</td>\n",
       "      <td>1</td>\n",
       "      <td>0.001238</td>\n",
       "    </tr>\n",
       "    <tr>\n",
       "      <th>1</th>\n",
       "      <td>1</td>\n",
       "      <td>0.019674</td>\n",
       "      <td>0</td>\n",
       "      <td>2</td>\n",
       "      <td>0.114546</td>\n",
       "    </tr>\n",
       "    <tr>\n",
       "      <th>2</th>\n",
       "      <td>1</td>\n",
       "      <td>0.003649</td>\n",
       "      <td>0</td>\n",
       "      <td>3</td>\n",
       "      <td>0.001578</td>\n",
       "    </tr>\n",
       "    <tr>\n",
       "      <th>3</th>\n",
       "      <td>7</td>\n",
       "      <td>0.034652</td>\n",
       "      <td>0</td>\n",
       "      <td>3</td>\n",
       "      <td>0.011143</td>\n",
       "    </tr>\n",
       "    <tr>\n",
       "      <th>4</th>\n",
       "      <td>7</td>\n",
       "      <td>0.001701</td>\n",
       "      <td>0</td>\n",
       "      <td>3</td>\n",
       "      <td>0.002402</td>\n",
       "    </tr>\n",
       "  </tbody>\n",
       "</table>\n",
       "</div>"
      ],
      "text/plain": [
       "   Position   HistCTR  IsClick  Level       CTR\n",
       "0         7  0.000010        0      1  0.001238\n",
       "1         1  0.019674        0      2  0.114546\n",
       "2         1  0.003649        0      3  0.001578\n",
       "3         7  0.034652        0      3  0.011143\n",
       "4         7  0.001701        0      3  0.002402"
      ]
     },
     "execution_count": 7,
     "metadata": {},
     "output_type": "execute_result"
    }
   ],
   "source": [
    "# Lets get a general sense of data\n",
    "ads_data=pd.read_excel('FlatFile.xlsx')\n",
    "ads_data.head()"
   ]
  },
  {
   "cell_type": "code",
   "execution_count": 8,
   "metadata": {
    "collapsed": true
   },
   "outputs": [],
   "source": [
    "LinReg = LinearRegression(normalize=True)\n"
   ]
  },
  {
   "cell_type": "code",
   "execution_count": 13,
   "metadata": {
    "collapsed": true
   },
   "outputs": [],
   "source": [
    "features=['Position','HistCTR','Level']\n",
    "target=['CTR']"
   ]
  },
  {
   "cell_type": "code",
   "execution_count": 14,
   "metadata": {
    "collapsed": false
   },
   "outputs": [],
   "source": [
    "feature_array=ads_data[features].as_matrix()\n",
    "target_array=ads_data[target].as_matrix()"
   ]
  },
  {
   "cell_type": "code",
   "execution_count": 15,
   "metadata": {
    "collapsed": false
   },
   "outputs": [
    {
     "data": {
      "text/plain": [
       "LinearRegression(copy_X=True, fit_intercept=True, n_jobs=1, normalize=True)"
      ]
     },
     "execution_count": 15,
     "metadata": {},
     "output_type": "execute_result"
    }
   ],
   "source": [
    "LinReg = LinearRegression(normalize=True)\n",
    "LinReg.fit(feature_array,target_array)"
   ]
  },
  {
   "cell_type": "code",
   "execution_count": 16,
   "metadata": {
    "collapsed": false
   },
   "outputs": [
    {
     "data": {
      "text/plain": [
       "(array([[  1.59122914e-06,   5.22431601e-03,   3.20430276e-04]]),\n",
       "       Position   HistCTR  Level\n",
       " 0            7  0.000010      1\n",
       " 1            1  0.019674      2\n",
       " 2            1  0.003649      3\n",
       " 3            7  0.034652      3\n",
       " 4            7  0.001701      3\n",
       " 5            1  0.011954      3\n",
       " 6            1  0.007648      3\n",
       " 7            7  0.007628      2\n",
       " 8            7  0.003955      3\n",
       " 9            1  0.005206      3\n",
       " 10           7  0.003879      3\n",
       " 11           1  0.002146      3\n",
       " 12           7  0.011686      2\n",
       " 13           1  0.043230      3\n",
       " 14           1  0.002762      3\n",
       " 15           7  0.003862      3\n",
       " 16           7  0.002751      3\n",
       " 17           1  0.007413      2\n",
       " 18           7  0.005873      3\n",
       " 19           1  0.010105      3\n",
       " 20           1  0.032258      3\n",
       " 21           7  0.027174      3\n",
       " 22           1  0.002752      3\n",
       " 23           7  0.002277      3\n",
       " 24           7  0.003195      2\n",
       " 25           1  0.022727      3\n",
       " 26           7  0.004876      3\n",
       " 27           1  0.034132      3\n",
       " 28           7  0.007799      2\n",
       " 29           1  0.007595      3\n",
       " ...        ...       ...    ...\n",
       " 2445         1  0.001072      3\n",
       " 2446         7  0.000010      3\n",
       " 2447         1  0.009860      1\n",
       " 2448         7  0.002941      2\n",
       " 2449         1  0.015176      3\n",
       " 2450         1  0.002409      3\n",
       " 2451         7  0.001995      3\n",
       " 2452         1  0.003221      3\n",
       " 2453         7  0.001853      3\n",
       " 2454         1  0.016269      2\n",
       " 2455         1  0.002782      3\n",
       " 2456         7  0.013072      3\n",
       " 2457         1  0.001849      3\n",
       " 2458         7  0.001069      3\n",
       " 2459         7  0.003591      2\n",
       " 2460         1  0.006918      3\n",
       " 2461         1  0.007901      3\n",
       " 2462         7  0.012239      3\n",
       " 2463         1  0.003324      3\n",
       " 2464         7  0.004230      2\n",
       " 2465         7  0.002328      3\n",
       " 2466         1  0.006476      3\n",
       " 2467         1  0.005263      3\n",
       " 2468         1  0.003173      3\n",
       " 2469         7  0.001931      3\n",
       " 2470         1  0.005973      3\n",
       " 2471         7  0.000473      2\n",
       " 2472         1  0.001832      3\n",
       " 2473         1  0.008403      3\n",
       " 2474         7  0.001402      3\n",
       " \n",
       " [2475 rows x 3 columns])"
      ]
     },
     "execution_count": 16,
     "metadata": {},
     "output_type": "execute_result"
    }
   ],
   "source": [
    "LinReg_ranking = (np.abs(LinReg.coef_), ads_data[features])\n",
    "LinReg_ranking"
   ]
  },
  {
   "cell_type": "code",
   "execution_count": null,
   "metadata": {
    "collapsed": true
   },
   "outputs": [],
   "source": []
  }
 ],
 "metadata": {
  "kernelspec": {
   "display_name": "Python 3",
   "language": "python",
   "name": "python3"
  },
  "language_info": {
   "codemirror_mode": {
    "name": "ipython",
    "version": 3
   },
   "file_extension": ".py",
   "mimetype": "text/x-python",
   "name": "python",
   "nbconvert_exporter": "python",
   "pygments_lexer": "ipython3",
   "version": "3.6.0"
  }
 },
 "nbformat": 4,
 "nbformat_minor": 2
}
