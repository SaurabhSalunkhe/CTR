{
 "cells": [
  {
   "cell_type": "code",
   "execution_count": 1,
   "metadata": {
    "collapsed": false
   },
   "outputs": [
    {
     "name": "stdout",
     "output_type": "stream",
     "text": [
      "   SearchID      AdID  Position  ObjectType   HistCTR IsClick\n",
      "0         2  11441863         1           3  0.001804       0\n",
      "1         2  22968355         7           3  0.004723       0\n",
      "2         3    212187         7           3  0.029701       0\n",
      "3         3  34084553         1           3    0.0043       0\n",
      "4         3  36256251         2           2                  \n",
      "------------Running Time is as below---------------------\n",
      "Total running time: 0:0:0.\n",
      "\n"
     ]
    }
   ],
   "source": [
    "import timeit\n",
    "import sqlite3\n",
    "import pandas as pd\n",
    "from pandas.io import sql\n",
    "\n",
    "\n",
    "start = timeit.default_timer()\n",
    "\n",
    "# creating a connection object that represent the database\n",
    "conn = sqlite3.connect('database.sqlite')\n",
    "\n",
    "# representing the query string\n",
    "query_train = \"\"\"\n",
    "select * from trainSearchStream limit 60;\n",
    "\"\"\"\n",
    "\n",
    "# Read SQl query into a dataframe \n",
    "df = sql.read_sql(query_train, conn)\n",
    "\n",
    "print(df.head())\n",
    "\n",
    "stop = timeit.default_timer()\n",
    "total_time = stop - start\n",
    "\n",
    "mins, secs = divmod(total_time, 60)\n",
    "hours, mins = divmod(mins, 60)\n",
    "print(\"------------Running Time is as below---------------------\")\n",
    "print(\"Total running time: %d:%d:%d.\\n\"  % (hours, mins, secs))"
   ]
  },
  {
   "cell_type": "markdown",
   "metadata": {},
   "source": [
    "##\tGetting HistCTR and IsClick: Getting the historical Click through data and wheter the ad has been clicked. This is an important analysis since we can perform logistic regression on it. Further we can determine whether we can establish valuable relationships from the HistCTR and Click data "
   ]
  },
  {
   "cell_type": "code",
   "execution_count": 2,
   "metadata": {
    "collapsed": false
   },
   "outputs": [
    {
     "name": "stdout",
     "output_type": "stream",
     "text": [
      "    HistCTR IsClick\n",
      "0  0.001804       0\n",
      "1  0.004723       0\n",
      "2  0.029701       0\n",
      "3    0.0043       0\n",
      "4                  \n",
      "------------Running Time is as below-------------\n",
      "Total running time: 0:0:13.\n",
      "\n"
     ]
    }
   ],
   "source": [
    "start = timeit.default_timer()\n",
    "\n",
    "\n",
    "query_One=\"\"\"select HistCTR, IsClick from trainSearchStream limit 10000000 \"\"\"\n",
    "df_CTR=sql.read_sql(query_One,conn)\n",
    "print(df_CTR.head())\n",
    "\n",
    "stop = timeit.default_timer()\n",
    "total_time = stop - start\n",
    "\n",
    "mins, secs = divmod(total_time, 60)\n",
    "hours, mins = divmod(mins, 60)\n",
    "print(\"------------Running Time is as below-------------\")\n",
    "print(\"Total running time: %d:%d:%d.\\n\"  % (hours, mins, secs))\n"
   ]
  },
  {
   "cell_type": "markdown",
   "metadata": {},
   "source": [
    "## TrainSearchStream is an important table as it is been used for predictive modelling in this very project: One very important analysis will be Creating an upper level view of the search event by the user clicked on a particular ad. Now, since there are three tables involved here, we will have to perform nested joins. This table can be further imported to a csv file and we can apply gradient boosting to draw further conclusions. "
   ]
  },
  {
   "cell_type": "code",
   "execution_count": 4,
   "metadata": {
    "collapsed": false
   },
   "outputs": [
    {
     "name": "stdout",
     "output_type": "stream",
     "text": [
      "   SearchID      AdID  Position  ObjectType   HistCTR  IsClick  SearchID:1  \\\n",
      "0       121   1220223         7           3  0.005422        1         121   \n",
      "1       181  13840581         7           3  0.013889        1         181   \n",
      "\n",
      "              SearchDate     IPID   UserID    ...    LocationID  CategoryID  \\\n",
      "0  2015-05-09 22:21:40.0   490755  3817669    ...          2685          44   \n",
      "1  2015-04-30 10:24:49.0  1507803  2391097    ...           230          22   \n",
      "\n",
      "                                        SearchParams      AdID LocationID  \\\n",
      "0                                                      1220223              \n",
      "1  {83:'Платья и юбки', 175:'Женская одежда', 90:...  13840581              \n",
      "\n",
      "   CategoryID                                      Params  Price  \\\n",
      "0          44                 {223:'Бинокли и телескопы'}   1000   \n",
      "1          22  {83:'Платья и юбки', 175:'Женская одежда'}   3000   \n",
      "\n",
      "                                               Title IsContext  \n",
      "0  Лупа,монокуляр на очковой оправе,Отправка по Р...         1  \n",
      "1                          Брендовые вечерние платья         1  \n",
      "\n",
      "[2 rows x 22 columns]\n",
      "------------Running Time is as below-------------\n",
      "Total running time: 0:10:59.\n",
      "\n"
     ]
    }
   ],
   "source": [
    "start = timeit.default_timer()\n",
    "\n",
    "query_Two = \"\"\"\n",
    "SELECT * FROM\n",
    "(\n",
    "  SELECT * FROM TrainSearchStream tss\n",
    "  LEFT OUTER JOIN SearchInfo si\n",
    "  ON tss.SearchID = si.SearchID\n",
    "  WHERE IsClick = 1\n",
    "  LIMIT 2\n",
    ") tssSubset\n",
    "LEFT OUTER JOIN\n",
    "AdsInfo ai\n",
    "ON tssSubset.AdID = ai.AdID;\n",
    "\"\"\"\n",
    "df_Two = sql.read_sql(query_Two, conn)\n",
    "\n",
    "print(df_Two.head())\n",
    "    \n",
    "stop = timeit.default_timer()\n",
    "total_time = stop - start\n",
    "\n",
    "mins, secs = divmod(total_time, 60)\n",
    "hours, mins = divmod(mins, 60)\n",
    "print(\"------------Running Time is as below-------------\")\n",
    "print(\"Total running time: %d:%d:%d.\\n\"  % (hours, mins, secs))"
   ]
  },
  {
   "cell_type": "markdown",
   "metadata": {},
   "source": [
    "### Along with finding looking for the reasons for more clicks, we can also do an analysis on data which is not causing clicks. For that, we can look for sample data from TrainSearchStream with searchinfo and adsinfo where the click is 0."
   ]
  },
  {
   "cell_type": "code",
   "execution_count": 18,
   "metadata": {
    "collapsed": false
   },
   "outputs": [
    {
     "name": "stdout",
     "output_type": "stream",
     "text": [
      "------------Running Time is as below-------------\n",
      "Total running time: 0:7:49.\n",
      "\n"
     ]
    }
   ],
   "source": [
    "start = timeit.default_timer()\n",
    "\n",
    "queryThree=\"\"\"\n",
    "SELECT * FROM\n",
    "(\n",
    "  SELECT * FROM TrainSearchStream tss\n",
    "  LEFT OUTER JOIN SearchInfo si\n",
    "  ON tss.SearchID = si.SearchID\n",
    "  WHERE IsClick = 0\n",
    "  LIMIT 2\n",
    ") tssSubset\n",
    "LEFT OUTER JOIN\n",
    "AdsInfo ai\n",
    "ON tssSubset.AdID = ai.AdID;\n",
    "\"\"\"\n",
    "df_three = sql.read_sql(queryThree, conn)\n",
    "print(df_three.head())\n",
    "\n",
    "stop = timeit.default_timer()\n",
    "total_time = stop - start\n",
    "\n",
    "mins, secs = divmod(total_time, 60)\n",
    "hours, mins = divmod(mins, 60)\n",
    "print(\"------------Running Time is as below-------------\")\n",
    "print(\"Total running time: %d:%d:%d.\\n\"  % (hours, mins, secs))"
   ]
  },
  {
   "cell_type": "markdown",
   "metadata": {},
   "source": [
    "### The whole purpose of this project is to perform machine learning to leverage the advertising platform. This can be achieved when we can provide customized recommendations for the users of an ad platform. Having said, that, one important query can be to find out search event information just for a particular user. "
   ]
  },
  {
   "cell_type": "code",
   "execution_count": 4,
   "metadata": {
    "collapsed": false
   },
   "outputs": [
    {
     "name": "stdout",
     "output_type": "stream",
     "text": [
      "   UserID    IPID      AdID               ViewDate      AdID  LocationID  \\\n",
      "0       9  885380  32207960  2015-04-27 20:16:36.0  32207960        1868   \n",
      "1       9  885380  11013330  2015-04-27 20:18:00.0  11013330        1868   \n",
      "2       9  885380  10699734  2015-04-27 20:18:21.0  10699734        1868   \n",
      "3       9  885380  32207960  2015-04-27 20:32:05.0  32207960        1868   \n",
      "\n",
      "   CategoryID                         Params Price  \\\n",
      "0      250005  {716:'Ремонт, строительство'}     0   \n",
      "1      250005  {716:'Ремонт, строительство'}     0   \n",
      "2      250005  {716:'Ремонт, строительство'}     0   \n",
      "3      250005  {716:'Ремонт, строительство'}     0   \n",
      "\n",
      "                                              Title  IsContext  \n",
      "0      Забор из металлического штакетника в Талдоме          0  \n",
      "1  Заборы из штакетника в Талдоме, Кимрах, Дмитрове          0  \n",
      "2                    Монтаж заборов кровли сайдинга          0  \n",
      "3      Забор из металлического штакетника в Талдоме          0  \n",
      "------------Running Time is as below-------------\n",
      "Total running time: 0:3:16.\n",
      "\n"
     ]
    }
   ],
   "source": [
    "start = timeit.default_timer()\n",
    "\n",
    "queryFour=\"\"\"\n",
    "select * from \n",
    "(VisitsStream vs inner join AdsInfo ai on vs.AdID = ai.AdID)\n",
    "where UserId = 9;\n",
    "\"\"\"\n",
    "df_four = sql.read_sql(queryFour, conn)\n",
    "print(df_four.head())\n",
    "\n",
    "stop = timeit.default_timer()\n",
    "total_time = stop - start\n",
    "\n",
    "mins, secs = divmod(total_time, 60)\n",
    "hours, mins = divmod(mins, 60)\n",
    "print(\"------------Running Time is as below-------------\")\n",
    "print(\"Total running time: %d:%d:%d.\\n\"  % (hours, mins, secs))"
   ]
  },
  {
   "cell_type": "markdown",
   "metadata": {},
   "source": [
    "### 5)\tIn the database, there are three types of ads : - Regular, Highlighted and Context. Context ads are the best way to target users. Currently, many advertisement companies uses general statistics on ad performance to drive the placement of the ads. Thus to concentrate more on context ads it is essential to filter those from the database.  "
   ]
  },
  {
   "cell_type": "code",
   "execution_count": 3,
   "metadata": {
    "collapsed": false
   },
   "outputs": [
    {
     "name": "stdout",
     "output_type": "stream",
     "text": [
      "   TestId  SearchID      AdID  Position  ObjectType   HistCTR  SearchID:1  \\\n",
      "0       1         1  10915336         1           3  0.004999           1   \n",
      "1       5         1  31173651         7           3  0.045094           1   \n",
      "2       6         7   9041972         1           3  0.007032           7   \n",
      "3       7        28  14309446         7           3  0.016943          28   \n",
      "4       8        28  15753167         1           3  0.054339          28   \n",
      "\n",
      "              SearchDate     IPID   UserID    ...    LocationID  CategoryID  \\\n",
      "0  2015-05-18 19:54:32.0  1717090  3640266    ...          1729           5   \n",
      "1  2015-05-18 19:54:32.0  1717090  3640266    ...          1729           5   \n",
      "2  2015-05-14 23:07:27.0  1849117  3434614    ...            44      500001   \n",
      "3  2015-05-16 20:19:47.0  1845070   682366    ...          1338          12   \n",
      "4  2015-05-16 20:19:47.0  1845070   682366    ...          1338          12   \n",
      "\n",
      "   SearchParams      AdID LocationID  CategoryID  \\\n",
      "0                10915336                      5   \n",
      "1                31173651                      5   \n",
      "2                 9041972                 500001   \n",
      "3                14309446                     34   \n",
      "4                15753167                     34   \n",
      "\n",
      "                                  Params  Price  \\\n",
      "0                   {165:'Единоборства'}    449   \n",
      "1                         {165:'Туризм'}   1540   \n",
      "2                       {820:'Торговля'}      1   \n",
      "3  {5:'Запчасти', 598:'Для автомобилей'}  11500   \n",
      "4  {5:'Запчасти', 598:'Для автомобилей'}   5400   \n",
      "\n",
      "                                               Title IsContext  \n",
      "0               Эспандер боксера Бокс 1 тип рюкзачок         1  \n",
      "1                                     Спальный мешок         1  \n",
      "2  Бесплатный вебинар по торговле iPhone в регионах.         1  \n",
      "3      Насос форсунка Вольво/Volvo 3155040 FH12/FM13         1  \n",
      "4              Запчасти и фары Тойта Лэнд Крузер 200         1  \n",
      "\n",
      "[5 rows x 22 columns]\n",
      "------------Running Time is as below-------------\n",
      "Total running time: 0:10:37.\n",
      "\n"
     ]
    }
   ],
   "source": [
    "start = timeit.default_timer()\n",
    "\n",
    "queryFive=\"\"\"\n",
    "SELECT * FROM\n",
    "(\n",
    "  SELECT * FROM TestSearchStream tss\n",
    "  LEFT OUTER JOIN SearchInfo si\n",
    "  ON tss.SearchID = si.SearchID\n",
    "  WHERE ObjectType = 3\n",
    "  LIMIT 10\n",
    ") tssSubset\n",
    "LEFT OUTER JOIN\n",
    "AdsInfo ai\n",
    "ON tssSubset.AdID = ai.AdID;\n",
    "\"\"\"\n",
    "df_five = sql.read_sql(queryFive, conn)\n",
    "print(df_five.head())\n",
    "\n",
    "stop = timeit.default_timer()\n",
    "total_time = stop - start\n",
    "\n",
    "mins, secs = divmod(total_time, 60)\n",
    "hours, mins = divmod(mins, 60)\n",
    "print(\"------------Running Time is as below-------------\")\n",
    "print(\"Total running time: %d:%d:%d.\\n\"  % (hours, mins, secs))"
   ]
  },
  {
   "cell_type": "code",
   "execution_count": null,
   "metadata": {
    "collapsed": true
   },
   "outputs": [],
   "source": []
  }
 ],
 "metadata": {
  "kernelspec": {
   "display_name": "Python 3",
   "language": "python",
   "name": "python3"
  },
  "language_info": {
   "codemirror_mode": {
    "name": "ipython",
    "version": 3
   },
   "file_extension": ".py",
   "mimetype": "text/x-python",
   "name": "python",
   "nbconvert_exporter": "python",
   "pygments_lexer": "ipython3",
   "version": "3.6.0"
  }
 },
 "nbformat": 4,
 "nbformat_minor": 2
}
