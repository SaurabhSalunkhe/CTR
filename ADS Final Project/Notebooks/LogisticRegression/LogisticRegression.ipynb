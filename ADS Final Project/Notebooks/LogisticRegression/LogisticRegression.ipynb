{
 "cells": [
  {
   "cell_type": "code",
   "execution_count": 1,
   "metadata": {
    "collapsed": true
   },
   "outputs": [],
   "source": [
    "# Getting necessary imports\n",
    "import sqlite3\n",
    "import datetime\n",
    "import zipfile\n",
    "import pandas as pd\n",
    "import numpy as np\n",
    "from pandas.io import sql\n",
    "from sklearn.linear_model import LogisticRegression\n",
    "from sklearn.feature_extraction import DictVectorizer\n"
   ]
  },
  {
   "cell_type": "code",
   "execution_count": 6,
   "metadata": {
    "collapsed": true
   },
   "outputs": [],
   "source": [
    "# Getting an instance of the database\n",
    "conn = sqlite3.connect('../database.sqlite')\n",
    "\n",
    "# Query for retrieving the necessary parameters\n",
    "query = \"\"\"\n",
    "select Position, HistCTR, IsClick from trainSearchStream where ObjectType = 3 limit 750, 750;\n",
    "\"\"\"\n"
   ]
  },
  {
   "cell_type": "code",
   "execution_count": 7,
   "metadata": {
    "collapsed": false
   },
   "outputs": [],
   "source": [
    "# Executing the sql command using the sql driver\n",
    "df = sql.read_sql(query, conn)\n",
    "\n",
    "# After feature extraction, position and HistCTR were the most influential parameters, hence getting those parameters in the dataframe\n",
    "X = df[['Position', 'HistCTR']]\n",
    "y = df.IsClick\n"
   ]
  },
  {
   "cell_type": "code",
   "execution_count": 8,
   "metadata": {
    "collapsed": true
   },
   "outputs": [],
   "source": [
    "# Get test data. The sql database has test data as one table in it for testing purpose\n",
    "query_test = \"\"\"\n",
    "select TestID, Position, HistCTR from testSearchStream where ObjectType = 3\n",
    "\"\"\"\n"
   ]
  },
  {
   "cell_type": "code",
   "execution_count": 9,
   "metadata": {
    "collapsed": true
   },
   "outputs": [],
   "source": [
    "df_test = sql.read_sql(query_test, conn)\n",
    "X_test = df_test[['Position', 'HistCTR']]"
   ]
  },
  {
   "cell_type": "code",
   "execution_count": 10,
   "metadata": {
    "collapsed": false
   },
   "outputs": [
    {
     "data": {
      "text/plain": [
       "LogisticRegression(C=1.0, class_weight=None, dual=False, fit_intercept=True,\n",
       "          intercept_scaling=1, max_iter=100, multi_class='ovr', n_jobs=1,\n",
       "          penalty='l2', random_state=None, solver='liblinear', tol=0.0001,\n",
       "          verbose=0, warm_start=False)"
      ]
     },
     "execution_count": 10,
     "metadata": {},
     "output_type": "execute_result"
    }
   ],
   "source": [
    "# Getting an instance of the logistic Regression model\n",
    "model = LogisticRegression()\n",
    "model.fit(X, y)"
   ]
  },
  {
   "cell_type": "code",
   "execution_count": null,
   "metadata": {
    "collapsed": true
   },
   "outputs": [],
   "source": [
    "\n",
    "pred = model.predict_proba(X_test)\n",
    "print(type(pred))\n"
   ]
  }
 ],
 "metadata": {
  "kernelspec": {
   "display_name": "Python 3",
   "language": "python",
   "name": "python3"
  },
  "language_info": {
   "codemirror_mode": {
    "name": "ipython",
    "version": 3
   },
   "file_extension": ".py",
   "mimetype": "text/x-python",
   "name": "python",
   "nbconvert_exporter": "python",
   "pygments_lexer": "ipython3",
   "version": "3.6.0"
  }
 },
 "nbformat": 4,
 "nbformat_minor": 2
}
