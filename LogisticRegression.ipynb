{
 "cells": [
  {
   "cell_type": "code",
   "execution_count": 2,
   "metadata": {
    "collapsed": false
   },
   "outputs": [
    {
     "name": "stdout",
     "output_type": "stream",
     "text": [
      "\n",
      "select Position, HistCTR, IsClick from trainSearchStream where ObjectType = 3 limit 750, 750;\n",
      "\n"
     ]
    }
   ],
   "source": [
    "import sqlite3\n",
    "import datetime\n",
    "import zipfile\n",
    "import pandas as pd\n",
    "import numpy as np\n",
    "from pandas.io import sql\n",
    "from sklearn.linear_model import LogisticRegression\n",
    "from sklearn.feature_extraction import DictVectorizer\n",
    "\n",
    "# getting an instance of database\n",
    "conn = sqlite3.connect('database.sqlite')\n",
    "\n",
    "# Get train data\n",
    "query = \"\"\"\n",
    "select Position, HistCTR, IsClick from trainSearchStream where ObjectType = 3 limit 750, 750;\n",
    "\"\"\"\n",
    "print(query)\n",
    "df = sql.read_sql(query, conn)\n",
    "X = df[['Position', 'HistCTR']]\n",
    "y = df.IsClick\n",
    "\n",
    "# Get test data\n",
    "query_test = \"\"\"\n",
    "select TestID, Position, HistCTR from testSearchStream where ObjectType = 3\n",
    "\"\"\"\n",
    "df_test = sql.read_sql(query_test, conn)\n",
    "X_test = df_test[['Position', 'HistCTR']]\n",
    "# y_test=df_test.IsClick\n",
    "\n",
    "model = LogisticRegression()\n",
    "model.fit(X, y)\n",
    "\n",
    "# from sklearn.metrics import accuracy_score\n",
    "# print(\"The accuracy score is %1.1f\"%accuracy_score(y_test,model.predict(X_test)))\n",
    "\n",
    "pred = model.predict_proba(X_test)\n",
    "# print(model.predict(X,y))\n",
    "\n",
    "# Output to csv\n",
    "# filename = 'LogisticResults'\n",
    "# pd.DataFrame({'ID': df_test.TestId, 'IsClick': pred[:, 1]}).to_csv(\"LogisticResults.csv\", index=False)"
   ]
  },
  {
   "cell_type": "code",
   "execution_count": null,
   "metadata": {
    "collapsed": true
   },
   "outputs": [],
   "source": []
  }
 ],
 "metadata": {
  "kernelspec": {
   "display_name": "Python 3",
   "language": "python",
   "name": "python3"
  },
  "language_info": {
   "codemirror_mode": {
    "name": "ipython",
    "version": 3
   },
   "file_extension": ".py",
   "mimetype": "text/x-python",
   "name": "python",
   "nbconvert_exporter": "python",
   "pygments_lexer": "ipython3",
   "version": "3.6.0"
  }
 },
 "nbformat": 4,
 "nbformat_minor": 2
}
