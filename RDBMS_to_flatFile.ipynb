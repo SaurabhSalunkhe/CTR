{
 "cells": [
  {
   "cell_type": "code",
   "execution_count": 2,
   "metadata": {
    "collapsed": false
   },
   "outputs": [],
   "source": [
    "import pandas as pd\n",
    "import numpy as np\n",
    "\n",
    "#How many file we want to read\n",
    "N = 10 \n",
    "\n",
    "#Decide which join to perform by the merge method\n",
    "how_value ='left' \n",
    "\n",
    "#Read data files\n",
    "df_trainSearchStream = pd.read_csv('trainSearchStream.tsv',nrows = N,delimiter = '\\t')\n",
    "df_AdsInfo = pd.read_csv('AdsInfo.tsv', delimiter = '\\t',nrows = N)\n",
    "df_Category = pd.read_csv('Category.tsv', delimiter = '\\t',nrows = N)\n",
    "df_Location = pd.read_csv('Location.tsv', delimiter = '\\t',nrows = N)\n",
    "df_VisitsStream = pd.read_csv('VisitsStream.tsv', delimiter = '\\t',nrows = N)\n",
    "df_PhoneRequestsStream = pd.read_csv('PhoneRequestsStream.tsv', delimiter = '\\t',nrows = N)\n",
    "df_SearchInfo = pd.read_csv('SearchInfo.tsv', delimiter = '\\t',nrows = N,encoding='utf-8')\n",
    "df_UserInfo = pd.read_csv('UserInfo.tsv', delimiter = '\\t',nrows = N)\n",
    "\n",
    "# Merging.....\n",
    "df_SearchInfo = df_SearchInfo.merge(df_Location, on='LocationID',how = how_value)\n",
    "df_SearchInfo = df_SearchInfo.merge(df_Category, on='CategoryID',suffixes=('_Location', '_Category'),how = how_value)\n",
    "df_AdsInfo = df_AdsInfo.merge(df_Location, on='LocationID',how = how_value)\n",
    "df_AdsInfo = df_AdsInfo.merge(df_Category, on='CategoryID',suffixes=('_Location', '_Category'),how= how_value)\n",
    "df = df_trainSearchStream.merge(df_SearchInfo, on='SearchID',how= how_value)\n",
    "df = df.merge(df_UserInfo, on='UserID',how= how_value)\n",
    "df = df.merge(df_AdsInfo, on='AdID',suffixes=('_Search', '_Ad'),how = how_value )\n",
    "df = df.merge(df_VisitsStream, on=['UserID', 'AdID'],suffixes=('_SearchInfo', '_VisitsStream'),how= how_value)\n",
    "df = df.merge(df_PhoneRequestsStream, on=['UserID', 'AdID'],how= how_value)\n",
    "\n",
    "# Display the top records\n",
    "print (df.head())\n",
    "\n",
    "\n"
   ]
  },
  {
   "cell_type": "code",
   "execution_count": null,
   "metadata": {
    "collapsed": true
   },
   "outputs": [],
   "source": []
  }
 ],
 "metadata": {
  "kernelspec": {
   "display_name": "Python 3",
   "language": "python",
   "name": "python3"
  },
  "language_info": {
   "codemirror_mode": {
    "name": "ipython",
    "version": 3
   },
   "file_extension": ".py",
   "mimetype": "text/x-python",
   "name": "python",
   "nbconvert_exporter": "python",
   "pygments_lexer": "ipython3",
   "version": "3.6.0"
  }
 },
 "nbformat": 4,
 "nbformat_minor": 2
}
